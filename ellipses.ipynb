{
 "cells": [
  {
   "cell_type": "code",
   "execution_count": 13,
   "metadata": {},
   "outputs": [
    {
     "name": "stdout",
     "output_type": "stream",
     "text": [
      "torch.Size([500, 500])\n"
     ]
    },
    {
     "data": {
      "image/png": "[encoded data removed]",
      "text/plain": [
       "<Figure size 432x288 with 1 Axes>"
      ]
     },
     "metadata": {
      "needs_background": "light"
     },
     "output_type": "display_data"
    }
   ],
   "source": [
    "#pyright: reportGeneralTypeIssues=false\n",
    "from math import atan, cos, sin, tan\n",
    "import typing\n",
    "\n",
    "import torch\n",
    "import matplotlib.patches\n",
    "import matplotlib.pyplot as plt\n",
    "import numpy as np\n",
    "\n",
    "def gen_ellipses(img_size: int, ellipses_count: int, ellipses_size: float, ellipses_size_min: float=1) -> torch.Tensor:\n",
    "    fig = plt.figure(figsize=(img_size,img_size), dpi=1)\n",
    "    ax = fig.add_axes([0.0,0.0,1.0,1.0])\n",
    "    ellipse_func = lambda w, h, a, t: (w/2.0*cos(t)*cos(a)-h/2.0*sin(t)*sin(a), w/2.0*cos(t)*sin(a)+h/2.0*sin(t)*cos(a))\n",
    "    for _ in range(ellipses_count):\n",
    "        ellipse_width_aa = np.random.rand()*max(0.0, ellipses_size-ellipses_size_min)+ellipses_size_min\n",
    "        ellipse_height_aa = np.random.rand()*max(0.0, ellipses_size-ellipses_size_min)+ellipses_size_min\n",
    "        ellipse_angle = np.random.rand()*360.0\n",
    "        args = (ellipse_width_aa, ellipse_height_aa, ellipse_angle/180.0*np.pi)\n",
    "        t = atan(-ellipse_height_aa*tan(ellipse_angle/180.0*np.pi)/ellipse_width_aa)\n",
    "        ellipse_width = max(ellipse_func(*args, t)[0], ellipse_func(*args, t+np.pi)[0])-min(ellipse_func(*args, t)[0], ellipse_func(*args, t+np.pi)[0])\n",
    "        t = atan(ellipse_height_aa/(tan(ellipse_angle/180.0*np.pi)*ellipse_width_aa))\n",
    "        ellipse_height = max(ellipse_func(*args, t)[1], ellipse_func(*args, t+np.pi)[1])-min(ellipse_func(*args, t)[1], ellipse_func(*args, t+np.pi)[1])\n",
    "        ellipse_x = ellipse_width/2.0+np.random.rand()*(img_size-ellipse_width)\n",
    "        ellipse_y = ellipse_height/2.0+np.random.rand()*(img_size-ellipse_height)\n",
    "        ellipse = matplotlib.patches.Ellipse(xy=[ellipse_x, ellipse_y], width=ellipse_width_aa, height=ellipse_height_aa, angle=ellipse_angle)\n",
    "        ax.add_artist(ellipse)\n",
    "        ellipse.set_clip_box(ax.bbox)\n",
    "        ellipse.set_alpha(0.1+0.9*np.random.rand())\n",
    "    ax.axis(\"off\")\n",
    "    ax.set_xlim(0.0, img_size)\n",
    "    ax.set_ylim(0.0, img_size)\n",
    "    fig.add_axes(ax)\n",
    "    fig.canvas.draw()\n",
    "    #img = torch.from_numpy(1.0-np.array(fig.canvas.renderer._renderer)[:,:,3])\n",
    "    #img = torch.from_numpy(np.array(fig.canvas.renderer._renderer))\n",
    "    img = torch.from_numpy(np.frombuffer(fig.canvas.tostring_argb(), dtype=np.uint8).copy())\n",
    "    img = torch.swapaxes(img.reshape(img_size,img_size,4), 0, 2)\n",
    "    img = 1.0-img.to(torch.float32)/255.0\n",
    "    plt.close()\n",
    "    return img\n",
    "\n",
    "\n",
    "plt.figure()\n",
    "plt.subplot()\n",
    "print(gen_ellipses(500, 50, 50, 10)[0].shape)\n",
    "plt.imshow(gen_ellipses(500, 50, 50, 10)[0], interpolation=\"none\", cmap=\"gray\")\n",
    "plt.show()"
   ]
  }
 ],
 "metadata": {
  "kernelspec": {
   "display_name": "Python 3.10.4 ('FSDLIP')",
   "language": "python",
   "name": "python3"
  },
  "language_info": {
   "codemirror_mode": {
    "name": "ipython",
    "version": 3
   },
   "file_extension": ".py",
   "mimetype": "text/x-python",
   "name": "python",
   "nbconvert_exporter": "python",
   "pygments_lexer": "ipython3",
   "version": "3.10.4"
  },
  "orig_nbformat": 4,
  "vscode": {
   "interpreter": {
    "hash": "6f5571690fd5745e3f997c7bba842cd44f89a0efbc12ee036449b5767e7cf64c"
   }
  }
 },
 "nbformat": 4,
 "nbformat_minor": 2
}
