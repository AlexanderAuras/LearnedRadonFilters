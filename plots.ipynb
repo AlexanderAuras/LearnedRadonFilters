{
 "cells": [
  {
   "cell_type": "code",
   "execution_count": null,
   "metadata": {},
   "outputs": [],
   "source": [
    "import csv\n",
    "import numpy as np\n",
    "import matplotlib.pyplot as plt\n",
    "import matplotlib as mpl"
   ]
  },
  {
   "cell_type": "code",
   "execution_count": null,
   "metadata": {},
   "outputs": [],
   "source": [
    "exp_dict = {}\n",
    "experiments = ['fft_high_analytic', 'fft_high_learned', 'fft_low_analytic', 'fft_low_learned', 'svd_low_analytic', 'svd_low_learned']\n",
    "noise_levels = [0, 0.005, 0.01, 0.015, 0.025, 0.05, 0.075, 0.1]\n",
    "base_dir = \"results_data\"\n",
    "\n",
    "for e in experiments:\n",
    "    noise_dict = {}\n",
    "    for noise_level in noise_levels:\n",
    "        local_dict = {}\n",
    "        file_name = base_dir + \"/\" + e + \"/noise_level=\"+str(noise_level) + '/training_loss.csv'\n",
    "        try:\n",
    "            with open(file_name) as f:\n",
    "                reader = csv.reader(f)\n",
    "                for row in reader:\n",
    "                    local_dict[row[0]] = np.float_(row[1:])\n",
    "        except:\n",
    "            pass\n",
    "        \n",
    "        noise_dict[str(noise_level)] = local_dict\n",
    "    exp_dict[e] = noise_dict"
   ]
  },
  {
   "cell_type": "code",
   "execution_count": null,
   "metadata": {},
   "outputs": [],
   "source": [
    "plt.rcParams.update({\n",
    "    \"text.usetex\": True,\n",
    "    \"font.family\": \"serif\"\n",
    "})\n",
    "mpl.use(\"WebAgg\")"
   ]
  },
  {
   "cell_type": "code",
   "execution_count": null,
   "metadata": {},
   "outputs": [],
   "source": [
    "plt.close('all')\n",
    "\n",
    "small_noise = [0,0.005,0.01,0.015]\n",
    "\n",
    "col_dict = {'0': ['dimgrey', 'darkgrey'], '0.005': ['hotpink', 'pink'], '0.01': ['steelblue', 'skyblue'], '0.015': ['limegreen', 'lightgreen']}\n",
    "\n",
    "#small noise, fft vs. svd\n",
    "#training loss\n",
    "fig, ax = plt.subplots()\n",
    "ax2=ax.twinx()\n",
    "analytic_loss = []\n",
    "for noise_level in small_noise:\n",
    "    ax.plot(exp_dict['fft_low_learned'][str(noise_level)]['training/loss'], label = 'FFT, $s^2 = $'+' '+str(noise_level), color = col_dict[str(noise_level)][0])\n",
    "    ax.plot(exp_dict['svd_low_learned'][str(noise_level)]['training/loss'], label = 'SVD, $s^2 = $'+' '+str(noise_level), color = col_dict[str(noise_level)][1])\n",
    "    ax2.plot((1985,2045), (exp_dict['fft_low_analytic'][str(noise_level)]['training/loss'][-1], exp_dict['fft_low_analytic'][str(noise_level)]['training/loss'][-1]), color = col_dict[str(noise_level)][0], clip_on = False)\n",
    "    ax2.plot((1985,2045), (exp_dict['svd_low_analytic'][str(noise_level)]['training/loss'][-1], exp_dict['svd_low_analytic'][str(noise_level)]['training/loss'][-1]), color = col_dict[str(noise_level)][1], clip_on = False)\n",
    "\n",
    "ax.set_xlabel('Iteration', fontdict={'size': 15})\n",
    "ax.set_ylabel('Loss (Training)', fontdict={'size': 15})\n",
    "ax.legend(loc = 'upper center', fontsize = 'large')\n",
    "ax.set_ylim([0,0.005])\n",
    "ax2.set_ylim([0,0.005])\n",
    "ax.set_xlim([-100,2015])\n",
    "ax2.set_xlim([-100,2015])\n",
    "ax2.set_yticklabels([])\n",
    "ax2.set_yticks([])\n",
    "\n",
    "#validation loss\n",
    "plt.figure()\n",
    "for noise_level in small_noise:\n",
    "    plt.plot([0,639,1279,1919], exp_dict['fft_low_learned'][str(noise_level)]['validation/loss'], label = 'FFT, $s^2 = $'+' '+str(noise_level), color = col_dict[str(noise_level)][0])\n",
    "    plt.plot([0,639,1279,1919], exp_dict['svd_low_learned'][str(noise_level)]['validation/loss'], label = 'SVD, $s^2 = $'+' '+str(noise_level), color = col_dict[str(noise_level)][1])\n",
    "plt.xlabel('Iteration', fontdict={'size': 15})\n",
    "plt.ylabel('Loss (Validation)', fontdict={'size': 15})\n",
    "plt.ylim([0,0.005])\n",
    "\n",
    "#training psnr\n",
    "plt.figure()\n",
    "for noise_level in small_noise:\n",
    "    plt.plot(exp_dict['fft_low_learned'][str(noise_level)]['training/psnr'], label = 'FFT, $s^2 = $'+' '+str(noise_level), color = col_dict[str(noise_level)][0])\n",
    "    plt.plot(exp_dict['svd_low_learned'][str(noise_level)]['training/psnr'], label = 'SVD, $s^2 = $'+' '+str(noise_level), color = col_dict[str(noise_level)][1])\n",
    "plt.xlabel('Iteration', fontdict={'size': 15})\n",
    "plt.ylabel('PSNR (Training)', fontdict={'size': 15})\n",
    "#plt.ylim([0,0.005])\n",
    "\n",
    "#validation psnr\n",
    "plt.figure()\n",
    "for noise_level in small_noise:\n",
    "    plt.plot([0,639,1279,1919], exp_dict['fft_low_learned'][str(noise_level)]['validation/psnr'], label = 'FFT, $s^2 = $'+' '+str(noise_level), color = col_dict[str(noise_level)][0])\n",
    "    plt.plot([0,639,1279,1919], exp_dict['svd_low_learned'][str(noise_level)]['validation/psnr'], label = 'SVD, $s^2 = $'+' '+str(noise_level), color = col_dict[str(noise_level)][1])\n",
    "plt.xlabel('Iteration', fontdict={'size': 15})\n",
    "plt.ylabel('PSNR (Validation)', fontdict={'size': 15})\n",
    "#plt.ylim([0,0.005])\n",
    "\n",
    "#training psnr\n",
    "plt.figure()\n",
    "for noise_level in small_noise:\n",
    "    plt.plot(exp_dict['fft_low_learned'][str(noise_level)]['training/ssim'], label = 'FFT, $s^2 = $'+' '+str(noise_level), color = col_dict[str(noise_level)][0])\n",
    "    plt.plot(exp_dict['svd_low_learned'][str(noise_level)]['training/ssim'], label = 'SVD, $s^2 = $'+' '+str(noise_level), color = col_dict[str(noise_level)][1])\n",
    "plt.xlabel('Iteration', fontdict={'size': 15})\n",
    "plt.ylabel('SSIM (Training)', fontdict={'size': 15})\n",
    "plt.ylim([0.1,1.1])\n",
    "\n",
    "#validation psnr\n",
    "plt.figure()\n",
    "for noise_level in small_noise:\n",
    "    plt.plot([0,639,1279,1919], exp_dict['fft_low_learned'][str(noise_level)]['validation/ssim'], label = 'FFT, $s^2 = $'+' '+str(noise_level), color = col_dict[str(noise_level)][0])\n",
    "    plt.plot([0,639,1279,1919], exp_dict['svd_low_learned'][str(noise_level)]['validation/ssim'], label = 'SVD, $s^2 = $'+' '+str(noise_level), color = col_dict[str(noise_level)][1])\n",
    "plt.xlabel('Iteration', fontdict={'size': 15})\n",
    "plt.ylabel('SSIM (Validation)', fontdict={'size': 15})\n",
    "plt.ylim([0.1,1.1])\n",
    "\n",
    "plt.show()"
   ]
  },
  {
   "cell_type": "code",
   "execution_count": null,
   "metadata": {},
   "outputs": [],
   "source": [
    "plt.figure()\n",
    "fft_low_l2 = np.array([10.08, 10.04, 9.97,9.899,9.782,9.573,9.414,9.279])/(64*64)\n",
    "svd_low_l2 = np.array([10.19, 10.09, 9.993, 9.911, 9.786, 9.571, 9.407, 9.27])/(64*64)\n",
    "plt.plot(noise_levels, fft_low_l2)\n",
    "plt.plot(noise_levels)"
   ]
  }
 ],
 "metadata": {
  "kernelspec": {
   "display_name": "Python 3.10.4 ('FSDLIP')",
   "language": "python",
   "name": "python3"
  },
  "language_info": {
   "codemirror_mode": {
    "name": "ipython",
    "version": 3
   },
   "file_extension": ".py",
   "mimetype": "text/x-python",
   "name": "python",
   "nbconvert_exporter": "python",
   "pygments_lexer": "ipython3",
   "version": "3.10.4"
  },
  "orig_nbformat": 4,
  "vscode": {
   "interpreter": {
    "hash": "6f5571690fd5745e3f997c7bba842cd44f89a0efbc12ee036449b5767e7cf64c"
   }
  }
 },
 "nbformat": 4,
 "nbformat_minor": 2
}
