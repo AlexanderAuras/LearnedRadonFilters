{
 "cells": [
  {
   "cell_type": "code",
   "execution_count": 1,
   "metadata": {},
   "outputs": [],
   "source": [
    "import csv\n",
    "import numpy as np\n",
    "import matplotlib.pyplot as plt\n",
    "import matplotlib as mpl"
   ]
  },
  {
   "cell_type": "code",
   "execution_count": 2,
   "metadata": {},
   "outputs": [],
   "source": [
    "exp_dict = {}\n",
    "experiments = ['fft_high_analytic', 'fft_high_learned', 'fft_low_analytic', 'fft_low_learned', 'svd_low_analytic', 'svd_low_learned']\n",
    "noise_levels = [0, 0.005, 0.01, 0.015, 0.025, 0.05, 0.075, 0.1]\n",
    "base_dir = \"results_data\"\n",
    "\n",
    "for e in experiments:\n",
    "    noise_dict = {}\n",
    "    for noise_level in noise_levels:\n",
    "        local_dict = {}\n",
    "        file_name = base_dir + \"/\" + e + \"/noise_level=\"+str(noise_level) + '/training_loss.csv'\n",
    "        try:\n",
    "            with open(file_name) as f:\n",
    "                reader = csv.reader(f)\n",
    "                for row in reader:\n",
    "                    local_dict[row[0]] = np.float_(row[1:])\n",
    "        except:\n",
    "            pass\n",
    "        \n",
    "        noise_dict[str(noise_level)] = local_dict\n",
    "    exp_dict[e] = noise_dict"
   ]
  },
  {
   "cell_type": "code",
   "execution_count": 3,
   "metadata": {},
   "outputs": [],
   "source": [
    "plt.rcParams.update({\n",
    "    \"text.usetex\": True,\n",
    "    \"font.family\": \"serif\"\n",
    "})\n",
    "mpl.use(\"WebAgg\")"
   ]
  },
  {
   "cell_type": "code",
   "execution_count": 4,
   "metadata": {},
   "outputs": [
    {
     "name": "stdout",
     "output_type": "stream",
     "text": [
      "Press Ctrl+C to stop WebAgg server\n"
     ]
    },
    {
     "ename": "RuntimeError",
     "evalue": "This event loop is already running",
     "output_type": "error",
     "traceback": [
      "\u001b[0;31m---------------------------------------------------------------------------\u001b[0m",
      "\u001b[0;31mRuntimeError\u001b[0m                              Traceback (most recent call last)",
      "\u001b[1;32m/home/kabri/Documents/LearnedRadonFilters/plots.ipynb Cell 4\u001b[0m in \u001b[0;36m<cell line: 73>\u001b[0;34m()\u001b[0m\n\u001b[1;32m     <a href='vscode-notebook-cell://ssh-remote%2Btitanx/home/kabri/Documents/LearnedRadonFilters/plots.ipynb#W3sdnNjb2RlLXJlbW90ZQ%3D%3D?line=69'>70</a>\u001b[0m plt\u001b[39m.\u001b[39mylabel(\u001b[39m'\u001b[39m\u001b[39mSSIM (Validation)\u001b[39m\u001b[39m'\u001b[39m, fontdict\u001b[39m=\u001b[39m{\u001b[39m'\u001b[39m\u001b[39msize\u001b[39m\u001b[39m'\u001b[39m: \u001b[39m15\u001b[39m})\n\u001b[1;32m     <a href='vscode-notebook-cell://ssh-remote%2Btitanx/home/kabri/Documents/LearnedRadonFilters/plots.ipynb#W3sdnNjb2RlLXJlbW90ZQ%3D%3D?line=70'>71</a>\u001b[0m plt\u001b[39m.\u001b[39mylim([\u001b[39m0.1\u001b[39m,\u001b[39m1.1\u001b[39m])\n\u001b[0;32m---> <a href='vscode-notebook-cell://ssh-remote%2Btitanx/home/kabri/Documents/LearnedRadonFilters/plots.ipynb#W3sdnNjb2RlLXJlbW90ZQ%3D%3D?line=72'>73</a>\u001b[0m plt\u001b[39m.\u001b[39;49mshow()\n",
      "File \u001b[0;32m~/.conda/envs/mycuda/lib/python3.10/site-packages/matplotlib/pyplot.py:389\u001b[0m, in \u001b[0;36mshow\u001b[0;34m(*args, **kwargs)\u001b[0m\n\u001b[1;32m    345\u001b[0m \u001b[39m\"\"\"\u001b[39;00m\n\u001b[1;32m    346\u001b[0m \u001b[39mDisplay all open figures.\u001b[39;00m\n\u001b[1;32m    347\u001b[0m \n\u001b[0;32m   (...)\u001b[0m\n\u001b[1;32m    386\u001b[0m \u001b[39mexplicitly there.\u001b[39;00m\n\u001b[1;32m    387\u001b[0m \u001b[39m\"\"\"\u001b[39;00m\n\u001b[1;32m    388\u001b[0m _warn_if_gui_out_of_main_thread()\n\u001b[0;32m--> 389\u001b[0m \u001b[39mreturn\u001b[39;00m _get_backend_mod()\u001b[39m.\u001b[39;49mshow(\u001b[39m*\u001b[39;49margs, \u001b[39m*\u001b[39;49m\u001b[39m*\u001b[39;49mkwargs)\n",
      "File \u001b[0;32m~/.conda/envs/mycuda/lib/python3.10/site-packages/matplotlib/backends/backend_webagg.py:320\u001b[0m, in \u001b[0;36m_BackendWebAgg.show\u001b[0;34m(block)\u001b[0m\n\u001b[1;32m    317\u001b[0m \u001b[39melse\u001b[39;00m:\n\u001b[1;32m    318\u001b[0m     \u001b[39mprint\u001b[39m(\u001b[39m\"\u001b[39m\u001b[39mTo view figure, visit \u001b[39m\u001b[39m{0}\u001b[39;00m\u001b[39m\"\u001b[39m\u001b[39m.\u001b[39mformat(url))\n\u001b[0;32m--> 320\u001b[0m WebAggApplication\u001b[39m.\u001b[39;49mstart()\n",
      "File \u001b[0;32m~/.conda/envs/mycuda/lib/python3.10/site-packages/matplotlib/backends/backend_webagg.py:277\u001b[0m, in \u001b[0;36mWebAggApplication.start\u001b[0;34m(cls)\u001b[0m\n\u001b[1;32m    275\u001b[0m sys\u001b[39m.\u001b[39mstdout\u001b[39m.\u001b[39mflush()\n\u001b[1;32m    276\u001b[0m \u001b[39mwith\u001b[39;00m catch_sigint():\n\u001b[0;32m--> 277\u001b[0m     ioloop\u001b[39m.\u001b[39;49mstart()\n",
      "File \u001b[0;32m~/.conda/envs/mycuda/lib/python3.10/site-packages/tornado/platform/asyncio.py:215\u001b[0m, in \u001b[0;36mBaseAsyncIOLoop.start\u001b[0;34m(self)\u001b[0m\n\u001b[1;32m    213\u001b[0m \u001b[39mtry\u001b[39;00m:\n\u001b[1;32m    214\u001b[0m     asyncio\u001b[39m.\u001b[39mset_event_loop(\u001b[39mself\u001b[39m\u001b[39m.\u001b[39masyncio_loop)\n\u001b[0;32m--> 215\u001b[0m     \u001b[39mself\u001b[39;49m\u001b[39m.\u001b[39;49masyncio_loop\u001b[39m.\u001b[39;49mrun_forever()\n\u001b[1;32m    216\u001b[0m \u001b[39mfinally\u001b[39;00m:\n\u001b[1;32m    217\u001b[0m     asyncio\u001b[39m.\u001b[39mset_event_loop(old_loop)\n",
      "File \u001b[0;32m~/.conda/envs/mycuda/lib/python3.10/asyncio/base_events.py:590\u001b[0m, in \u001b[0;36mBaseEventLoop.run_forever\u001b[0;34m(self)\u001b[0m\n\u001b[1;32m    588\u001b[0m \u001b[39m\"\"\"Run until stop() is called.\"\"\"\u001b[39;00m\n\u001b[1;32m    589\u001b[0m \u001b[39mself\u001b[39m\u001b[39m.\u001b[39m_check_closed()\n\u001b[0;32m--> 590\u001b[0m \u001b[39mself\u001b[39;49m\u001b[39m.\u001b[39;49m_check_running()\n\u001b[1;32m    591\u001b[0m \u001b[39mself\u001b[39m\u001b[39m.\u001b[39m_set_coroutine_origin_tracking(\u001b[39mself\u001b[39m\u001b[39m.\u001b[39m_debug)\n\u001b[1;32m    592\u001b[0m \u001b[39mself\u001b[39m\u001b[39m.\u001b[39m_thread_id \u001b[39m=\u001b[39m threading\u001b[39m.\u001b[39mget_ident()\n",
      "File \u001b[0;32m~/.conda/envs/mycuda/lib/python3.10/asyncio/base_events.py:582\u001b[0m, in \u001b[0;36mBaseEventLoop._check_running\u001b[0;34m(self)\u001b[0m\n\u001b[1;32m    580\u001b[0m \u001b[39mdef\u001b[39;00m \u001b[39m_check_running\u001b[39m(\u001b[39mself\u001b[39m):\n\u001b[1;32m    581\u001b[0m     \u001b[39mif\u001b[39;00m \u001b[39mself\u001b[39m\u001b[39m.\u001b[39mis_running():\n\u001b[0;32m--> 582\u001b[0m         \u001b[39mraise\u001b[39;00m \u001b[39mRuntimeError\u001b[39;00m(\u001b[39m'\u001b[39m\u001b[39mThis event loop is already running\u001b[39m\u001b[39m'\u001b[39m)\n\u001b[1;32m    583\u001b[0m     \u001b[39mif\u001b[39;00m events\u001b[39m.\u001b[39m_get_running_loop() \u001b[39mis\u001b[39;00m \u001b[39mnot\u001b[39;00m \u001b[39mNone\u001b[39;00m:\n\u001b[1;32m    584\u001b[0m         \u001b[39mraise\u001b[39;00m \u001b[39mRuntimeError\u001b[39;00m(\n\u001b[1;32m    585\u001b[0m             \u001b[39m'\u001b[39m\u001b[39mCannot run the event loop while another loop is running\u001b[39m\u001b[39m'\u001b[39m)\n",
      "\u001b[0;31mRuntimeError\u001b[0m: This event loop is already running"
     ]
    }
   ],
   "source": [
    "plt.close('all')\n",
    "\n",
    "small_noise = [0,0.005,0.01,0.015]\n",
    "\n",
    "col_dict = {'0': ['dimgrey', 'darkgrey'], '0.005': ['hotpink', 'pink'], '0.01': ['steelblue', 'skyblue'], '0.015': ['limegreen', 'lightgreen']}\n",
    "\n",
    "#small noise, fft vs. svd\n",
    "#training loss\n",
    "fig, ax = plt.subplots()\n",
    "ax2=ax.twinx()\n",
    "analytic_loss = []\n",
    "for noise_level in small_noise:\n",
    "    ax.plot(exp_dict['fft_low_learned'][str(noise_level)]['training/loss'], label = 'FFT, $s^2 = $'+' '+str(noise_level), color = col_dict[str(noise_level)][0])\n",
    "    ax.plot(exp_dict['svd_low_learned'][str(noise_level)]['training/loss'], label = 'SVD, $s^2 = $'+' '+str(noise_level), color = col_dict[str(noise_level)][1])\n",
    "    ax2.plot((1985,2045), (exp_dict['fft_low_analytic'][str(noise_level)]['training/loss'][-1], exp_dict['fft_low_analytic'][str(noise_level)]['training/loss'][-1]), color = col_dict[str(noise_level)][0], clip_on = False)\n",
    "    ax2.plot((1985,2045), (exp_dict['svd_low_analytic'][str(noise_level)]['training/loss'][-1], exp_dict['svd_low_analytic'][str(noise_level)]['training/loss'][-1]), color = col_dict[str(noise_level)][1], clip_on = False)\n",
    "\n",
    "ax.set_xlabel('Iteration', fontdict={'size': 15})\n",
    "ax.set_ylabel('Loss (Training)', fontdict={'size': 15})\n",
    "ax.legend(loc = 'upper center', fontsize = 'large')\n",
    "ax.set_ylim([0,0.005])\n",
    "ax2.set_ylim([0,0.005])\n",
    "ax.set_xlim([-100,2015])\n",
    "ax2.set_xlim([-100,2015])\n",
    "ax2.set_yticklabels([])\n",
    "ax2.set_yticks([])\n",
    "\n",
    "#validation loss\n",
    "plt.figure()\n",
    "for noise_level in small_noise:\n",
    "    plt.plot([0,639,1279,1919], exp_dict['fft_low_learned'][str(noise_level)]['validation/loss'], label = 'FFT, $s^2 = $'+' '+str(noise_level), color = col_dict[str(noise_level)][0])\n",
    "    plt.plot([0,639,1279,1919], exp_dict['svd_low_learned'][str(noise_level)]['validation/loss'], label = 'SVD, $s^2 = $'+' '+str(noise_level), color = col_dict[str(noise_level)][1])\n",
    "plt.xlabel('Iteration', fontdict={'size': 15})\n",
    "plt.ylabel('Loss (Validation)', fontdict={'size': 15})\n",
    "plt.ylim([0,0.005])\n",
    "\n",
    "#training psnr\n",
    "plt.figure()\n",
    "for noise_level in small_noise:\n",
    "    plt.plot(exp_dict['fft_low_learned'][str(noise_level)]['training/psnr'], label = 'FFT, $s^2 = $'+' '+str(noise_level), color = col_dict[str(noise_level)][0])\n",
    "    plt.plot(exp_dict['svd_low_learned'][str(noise_level)]['training/psnr'], label = 'SVD, $s^2 = $'+' '+str(noise_level), color = col_dict[str(noise_level)][1])\n",
    "plt.xlabel('Iteration', fontdict={'size': 15})\n",
    "plt.ylabel('PSNR (Training)', fontdict={'size': 15})\n",
    "#plt.ylim([0,0.005])\n",
    "\n",
    "#validation psnr\n",
    "plt.figure()\n",
    "for noise_level in small_noise:\n",
    "    plt.plot([0,639,1279,1919], exp_dict['fft_low_learned'][str(noise_level)]['validation/psnr'], label = 'FFT, $s^2 = $'+' '+str(noise_level), color = col_dict[str(noise_level)][0])\n",
    "    plt.plot([0,639,1279,1919], exp_dict['svd_low_learned'][str(noise_level)]['validation/psnr'], label = 'SVD, $s^2 = $'+' '+str(noise_level), color = col_dict[str(noise_level)][1])\n",
    "plt.xlabel('Iteration', fontdict={'size': 15})\n",
    "plt.ylabel('PSNR (Validation)', fontdict={'size': 15})\n",
    "#plt.ylim([0,0.005])\n",
    "\n",
    "#training psnr\n",
    "plt.figure()\n",
    "for noise_level in small_noise:\n",
    "    plt.plot(exp_dict['fft_low_learned'][str(noise_level)]['training/ssim'], label = 'FFT, $s^2 = $'+' '+str(noise_level), color = col_dict[str(noise_level)][0])\n",
    "    plt.plot(exp_dict['svd_low_learned'][str(noise_level)]['training/ssim'], label = 'SVD, $s^2 = $'+' '+str(noise_level), color = col_dict[str(noise_level)][1])\n",
    "plt.xlabel('Iteration', fontdict={'size': 15})\n",
    "plt.ylabel('SSIM (Training)', fontdict={'size': 15})\n",
    "plt.ylim([0.1,1.1])\n",
    "\n",
    "#validation psnr\n",
    "plt.figure()\n",
    "for noise_level in small_noise:\n",
    "    plt.plot([0,639,1279,1919], exp_dict['fft_low_learned'][str(noise_level)]['validation/ssim'], label = 'FFT, $s^2 = $'+' '+str(noise_level), color = col_dict[str(noise_level)][0])\n",
    "    plt.plot([0,639,1279,1919], exp_dict['svd_low_learned'][str(noise_level)]['validation/ssim'], label = 'SVD, $s^2 = $'+' '+str(noise_level), color = col_dict[str(noise_level)][1])\n",
    "plt.xlabel('Iteration', fontdict={'size': 15})\n",
    "plt.ylabel('SSIM (Validation)', fontdict={'size': 15})\n",
    "plt.ylim([0.1,1.1])\n",
    "\n",
    "plt.show()"
   ]
  },
  {
   "cell_type": "code",
   "execution_count": 5,
   "metadata": {},
   "outputs": [
    {
     "name": "stdout",
     "output_type": "stream",
     "text": [
      "[]\n",
      "[0.00246094 0.00245117 0.00243408 0.00241675 0.00238818 0.00233716\n",
      " 0.00229834 0.00226538]\n"
     ]
    }
   ],
   "source": [
    "plt.figure()\n",
    "fft_low_l2 = np.array([10.08, 10.04, 9.97,9.899,9.782,9.573,9.414,9.279])/(64*64)\n",
    "svd_low_l2 = np.array([10.19, 10.09, 9.993, 9.911, 9.786, 9.571, 9.407, 9.27])/(64*64)\n",
    "plt.plot(noise_levels, fft_low_l2)\n",
    "plt.plot(noise_levels)"
   ]
  }
 ],
 "metadata": {
  "kernelspec": {
   "display_name": "Python 3.10.6 ('mycuda')",
   "language": "python",
   "name": "python3"
  },
  "language_info": {
   "codemirror_mode": {
    "name": "ipython",
    "version": 3
   },
   "file_extension": ".py",
   "mimetype": "text/x-python",
   "name": "python",
   "nbconvert_exporter": "python",
   "pygments_lexer": "ipython3",
   "version": "3.10.6"
  },
  "orig_nbformat": 4,
  "vscode": {
   "interpreter": {
    "hash": "02dd8e77ef3831ffd6c52ef385934e7bdeab565e35cb34adb3359d3c5764afc7"
   }
  }
 },
 "nbformat": 4,
 "nbformat_minor": 2
}
