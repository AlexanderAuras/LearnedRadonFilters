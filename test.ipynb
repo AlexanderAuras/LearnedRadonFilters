{
 "cells": [
  {
   "cell_type": "code",
   "execution_count": 12,
   "metadata": {},
   "outputs": [],
   "source": [
    "import typing\n",
    "\n",
    "import torch\n",
    "import matplotlib\n",
    "import matplotlib.pyplot as plt\n",
    "import omegaconf\n",
    "\n",
    "from ellipses_datamodule import EllipsesDataModule"
   ]
  },
  {
   "cell_type": "code",
   "execution_count": 16,
   "metadata": {},
   "outputs": [],
   "source": [
    "coefficients = torch.load(\"runs/analytic2/coefficients.pt\").detach().to(\"cpu\")\n",
    "matplotlib.use(\"qt5agg\")\n",
    "#plt.subplots(2,2,figsize=(12,12))\n",
    "#for i in range(4):\n",
    "#    plt.subplot(2,2,i+1)\n",
    "#    plt.plot(torch.arange(0, coefficients.shape[1]), coefficients[i])\n",
    "plt.figure()\n",
    "plt.title(\"Coefficients\")\n",
    "plt.imshow(coefficients.mT)\n",
    "plt.tight_layout()\n",
    "plt.show()\n",
    "matplotlib.use(\"agg\")"
   ]
  },
  {
   "cell_type": "code",
   "execution_count": 14,
   "metadata": {},
   "outputs": [],
   "source": [
    "pi = torch.load(\"runs/analytic2/pi.pt\").detach().to(\"cpu\")\n",
    "delta = torch.load(\"runs/analytic2/delta.pt\").detach().to(\"cpu\")\n",
    "\n",
    "matplotlib.use(\"qt5agg\")\n",
    "plt.subplots(1,3,figsize=(18,6))\n",
    "plt.subplot(1,3,1)\n",
    "plt.title(\"Π\")\n",
    "plt.imshow(pi.mT)\n",
    "plt.colorbar()\n",
    "plt.subplot(1,3,2)\n",
    "plt.title(\"Δ\")\n",
    "plt.imshow(delta.mT)\n",
    "plt.colorbar()\n",
    "plt.subplot(1,3,3)\n",
    "plt.title(\"Π/(Π+Δ)\")\n",
    "plt.imshow((pi/(pi+delta)).mT)\n",
    "plt.colorbar()\n",
    "plt.tight_layout()\n",
    "plt.show()\n",
    "matplotlib.use(\"agg\")"
   ]
  },
  {
   "cell_type": "code",
   "execution_count": 15,
   "metadata": {},
   "outputs": [],
   "source": [
    "edmi = iter(EllipsesDataModule(typing.cast(omegaconf.DictConfig, type(\"FakeDictConfig\", (object,), {\n",
    "    \"training_batch_count\": 100,\n",
    "    \"training_batch_size\": 32,\n",
    "    \"drop_last_training_batch\": True,\n",
    "    \"shuffle_training_data\": True,\n",
    "    \"num_workers\": 0,\n",
    "    \"dataset\": typing.cast(omegaconf.DictConfig, type(\"FakeDictConfig\", (object,), {\n",
    "        \"name\": \"ellipses\",\n",
    "        \"img_size\": 256,\n",
    "        \"ellipse_count\": 10,\n",
    "        \"ellipse_size\": 50,\n",
    "        \"ellipse_size_min\": 10\n",
    "    })),\n",
    "}))).train_dataloader())\n",
    "matplotlib.use(\"qt5agg\")\n",
    "plt.figure()\n",
    "plt.title(\"Ellipses example\")\n",
    "plt.imshow(next(edmi)[0][0,0], interpolation=\"nearest\", cmap=\"gray\")\n",
    "plt.colorbar()\n",
    "plt.tight_layout()\n",
    "plt.show()\n",
    "matplotlib.use(\"agg\")"
   ]
  }
 ],
 "metadata": {
  "kernelspec": {
   "display_name": "Python 3.10.4 ('FSDLIP')",
   "language": "python",
   "name": "python3"
  },
  "language_info": {
   "codemirror_mode": {
    "name": "ipython",
    "version": 3
   },
   "file_extension": ".py",
   "mimetype": "text/x-python",
   "name": "python",
   "nbconvert_exporter": "python",
   "pygments_lexer": "ipython3",
   "version": "3.10.4"
  },
  "orig_nbformat": 4,
  "vscode": {
   "interpreter": {
    "hash": "1ae2758780b58aa330ee032578cd01b13ea4adf3f777fab4f52aaf3cc4374449"
   }
  }
 },
 "nbformat": 4,
 "nbformat_minor": 2
}
