{
 "cells": [
  {
   "cell_type": "code",
   "execution_count": 1,
   "metadata": {},
   "outputs": [
    {
     "name": "stderr",
     "output_type": "stream",
     "text": [
      "/home/aa609734/.conda/envs/FSDLIP/lib/python3.10/site-packages/tqdm/auto.py:22: TqdmWarning: IProgress not found. Please update jupyter and ipywidgets. See https://ipywidgets.readthedocs.io/en/stable/user_install.html\n",
      "  from .autonotebook import tqdm as notebook_tqdm\n"
     ]
    }
   ],
   "source": [
    "import typing\n",
    "\n",
    "import torch\n",
    "import matplotlib\n",
    "import matplotlib.pyplot as plt\n",
    "import omegaconf\n",
    "\n",
    "from ellipses_datamodule import EllipsesDataModule"
   ]
  },
  {
   "cell_type": "code",
   "execution_count": 12,
   "metadata": {},
   "outputs": [],
   "source": [
    "coefficients = torch.load(\"runs/analytic_baseline/coefficients.pt\", map_location=\"cpu\").detach()\n",
    "matplotlib.use(\"WebAgg\")\n",
    "plt.figure()\n",
    "plt.title(\"Coefficients\")\n",
    "plt.imshow(coefficients.mT)\n",
    "plt.tight_layout()\n",
    "matplotlib.use(\"agg\")"
   ]
  },
  {
   "cell_type": "code",
   "execution_count": 13,
   "metadata": {},
   "outputs": [],
   "source": [
    "pi = torch.load(\"runs/analytic_baseline/pi.pt\", map_location=\"cpu\").detach()\n",
    "delta = torch.load(\"runs/analytic_baseline/delta.pt\", map_location=\"cpu\").detach()\n",
    "\n",
    "matplotlib.use(\"WebAgg\")\n",
    "plt.subplots(1,3,figsize=(18,6))\n",
    "plt.subplot(1,3,1)\n",
    "plt.title(\"Π\")\n",
    "plt.imshow(pi.mT)\n",
    "plt.colorbar()\n",
    "plt.subplot(1,3,2)\n",
    "plt.title(\"Δ\")\n",
    "plt.imshow(delta.mT)\n",
    "plt.colorbar()\n",
    "plt.subplot(1,3,3)\n",
    "plt.title(\"Π/(Π+Δ)\")\n",
    "plt.imshow((pi/(pi+delta)).mT)\n",
    "plt.colorbar()\n",
    "plt.tight_layout()\n",
    "plt.show()\n",
    "matplotlib.use(\"agg\")"
   ]
  },
  {
   "cell_type": "code",
   "execution_count": 15,
   "metadata": {},
   "outputs": [],
   "source": [
    "edmi = iter(EllipsesDataModule(typing.cast(omegaconf.DictConfig, type(\"FakeDictConfig\", (object,), {\n",
    "    \"training_batch_count\": 100,\n",
    "    \"training_batch_size\": 32,\n",
    "    \"drop_last_training_batch\": True,\n",
    "    \"shuffle_training_data\": True,\n",
    "    \"num_workers\": 0,\n",
    "    \"dataset\": typing.cast(omegaconf.DictConfig, type(\"FakeDictConfig\", (object,), {\n",
    "        \"name\": \"ellipses\",\n",
    "        \"img_size\": 256,\n",
    "        \"ellipse_count\": 10,\n",
    "        \"ellipse_size\": 50,\n",
    "        \"ellipse_size_min\": 10\n",
    "    })),\n",
    "}))).train_dataloader())\n",
    "matplotlib.use(\"qt5agg\")\n",
    "plt.figure()\n",
    "plt.title(\"Ellipses example\")\n",
    "plt.imshow(next(edmi)[0][0,0], interpolation=\"nearest\", cmap=\"gray\")\n",
    "plt.colorbar()\n",
    "plt.tight_layout()\n",
    "plt.show()\n",
    "matplotlib.use(\"agg\")"
   ]
  }
 ],
 "metadata": {
  "kernelspec": {
   "display_name": "Python 3.10.4 ('FSDLIP')",
   "language": "python",
   "name": "python3"
  },
  "language_info": {
   "codemirror_mode": {
    "name": "ipython",
    "version": 3
   },
   "file_extension": ".py",
   "mimetype": "text/x-python",
   "name": "python",
   "nbconvert_exporter": "python",
   "pygments_lexer": "ipython3",
   "version": "3.10.4"
  },
  "orig_nbformat": 4,
  "vscode": {
   "interpreter": {
    "hash": "6841dc7fd120a09cacb67fca1fc7edad1e2cda3584232e4c772e5de4e3e3b1dc"
   }
  }
 },
 "nbformat": 4,
 "nbformat_minor": 2
}
