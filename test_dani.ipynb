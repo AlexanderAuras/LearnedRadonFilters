{
 "cells": [
  {
   "cell_type": "code",
   "execution_count": 15,
   "metadata": {},
   "outputs": [],
   "source": [
    "import sys"
   ]
  },
  {
   "cell_type": "code",
   "execution_count": 1,
   "metadata": {},
   "outputs": [
    {
     "name": "stdout",
     "output_type": "stream",
     "text": [
      "3.9.6 (tags/v3.9.6:db3ff76, Jun 28 2021, 15:26:21) [MSC v.1929 64 bit (AMD64)]\n"
     ]
    }
   ],
   "source": [
    "print(sys.version)"
   ]
  },
  {
   "cell_type": "code",
   "execution_count": 8,
   "metadata": {},
   "outputs": [],
   "source": [
    "def check_python_version():\n",
    "    return (sys.version_info[0] >= 3) and (sys.version_info[1] >= 10)\n",
    "\n"
   ]
  },
  {
   "cell_type": "code",
   "execution_count": 13,
   "metadata": {},
   "outputs": [],
   "source": [
    "check_python_version = (sys.version_info[0] >= 3) and (sys.version_info[1] >= 10)"
   ]
  },
  {
   "cell_type": "code",
   "execution_count": 9,
   "metadata": {},
   "outputs": [
    {
     "name": "stdout",
     "output_type": "stream",
     "text": [
      "oopsie\n"
     ]
    }
   ],
   "source": [
    "if not ((sys.version_info[0] >= 3) and (sys.version_info[1] >= 10)):\n",
    "    print(\"oopsie\")"
   ]
  },
  {
   "cell_type": "code",
   "execution_count": 14,
   "metadata": {},
   "outputs": [
    {
     "name": "stdout",
     "output_type": "stream",
     "text": [
      "oopsie\n"
     ]
    }
   ],
   "source": [
    "if not check_python_version:\n",
    "    print(\"oopsie\")"
   ]
  },
  {
   "cell_type": "code",
   "execution_count": 3,
   "metadata": {},
   "outputs": [
    {
     "data": {
      "text/plain": [
       "False"
      ]
     },
     "execution_count": 3,
     "metadata": {},
     "output_type": "execute_result"
    }
   ],
   "source": [
    "sys.version_info[1] >= 10"
   ]
  },
  {
   "cell_type": "code",
   "execution_count": 4,
   "metadata": {},
   "outputs": [
    {
     "data": {
      "text/plain": [
       "9"
      ]
     },
     "execution_count": 4,
     "metadata": {},
     "output_type": "execute_result"
    }
   ],
   "source": [
    "sys.version_info[1]"
   ]
  },
  {
   "cell_type": "code",
   "execution_count": 16,
   "metadata": {},
   "outputs": [],
   "source": [
    "import typing"
   ]
  },
  {
   "cell_type": "code",
   "execution_count": 19,
   "metadata": {},
   "outputs": [],
   "source": [
    "import pytorch_lightning\n",
    "import pytorch_lightning.accelerators\n",
    "import pytorch_lightning.callbacks\n",
    "import pytorch_lightning.loggers\n",
    "import pytorch_lightning.utilities\n"
   ]
  },
  {
   "cell_type": "code",
   "execution_count": 21,
   "metadata": {},
   "outputs": [],
   "source": [
    "import torch"
   ]
  },
  {
   "cell_type": "code",
   "execution_count": 28,
   "metadata": {},
   "outputs": [
    {
     "name": "stdout",
     "output_type": "stream",
     "text": [
      "Fineeee\n"
     ]
    }
   ],
   "source": [
    "try:\n",
    "    @pytorch_lightning.utilities.rank_zero_only\n",
    "    def log_metrics(metrics: dict[str, torch.Tensor|float], step: int) -> None:\n",
    "        print()\n",
    "except:\n",
    "    @pytorch_lightning.utilities.rank_zero_only\n",
    "    def log_metrics(metrics: dict[str, typing.Union[torch.Tensor, float]], step: int) -> None:\n",
    "        print()\n",
    "finally:\n",
    "        print(\"Fineeee\") "
   ]
  },
  {
   "cell_type": "code",
   "execution_count": 29,
   "metadata": {},
   "outputs": [
    {
     "name": "stdout",
     "output_type": "stream",
     "text": [
      "\n"
     ]
    }
   ],
   "source": [
    "log_metrics(['aaa', 0.25], 2)\n"
   ]
  },
  {
   "cell_type": "code",
   "execution_count": 30,
   "metadata": {},
   "outputs": [],
   "source": [
    "import sys\n",
    "check_python_version = (sys.version_info[0] >= 3) and (sys.version_info[1] >= 10)"
   ]
  },
  {
   "cell_type": "code",
   "execution_count": 31,
   "metadata": {},
   "outputs": [],
   "source": [
    "if check_python_version:\n",
    "    torch.Tensor|float"
   ]
  },
  {
   "cell_type": "code",
   "execution_count": 33,
   "metadata": {},
   "outputs": [],
   "source": [
    "def pippo (amazing: torch.Tensor|float if check_python_version else typing.Union[torch.Tensor, float]):\n",
    "    print(\"sono un genio\")"
   ]
  },
  {
   "cell_type": "code",
   "execution_count": 34,
   "metadata": {},
   "outputs": [
    {
     "name": "stdout",
     "output_type": "stream",
     "text": [
      "sono un genio\n"
     ]
    }
   ],
   "source": [
    "pippo([0.5])"
   ]
  }
 ],
 "metadata": {
  "kernelspec": {
   "display_name": "Python 3.9.6 ('py396_2022': venv)",
   "language": "python",
   "name": "python3"
  },
  "language_info": {
   "codemirror_mode": {
    "name": "ipython",
    "version": 3
   },
   "file_extension": ".py",
   "mimetype": "text/x-python",
   "name": "python",
   "nbconvert_exporter": "python",
   "pygments_lexer": "ipython3",
   "version": "3.9.6"
  },
  "orig_nbformat": 4,
  "vscode": {
   "interpreter": {
    "hash": "728da063adee70d344dc69477bf203d2b79ed062e98e9ab3ec51282dd2dfe849"
   }
  }
 },
 "nbformat": 4,
 "nbformat_minor": 2
}
